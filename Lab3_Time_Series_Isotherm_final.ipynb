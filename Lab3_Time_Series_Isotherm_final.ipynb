{
 "cells": [
  {
   "cell_type": "markdown",
   "metadata": {},
   "source": [
    "<b>Libraries used in this analysis</b>"
   ]
  },
  {
   "cell_type": "code",
   "execution_count": null,
   "metadata": {},
   "outputs": [],
   "source": [
    "#libraries used in phase 1:\n",
    "from siphon.simplewebservice.ndbc import NDBC #UNIDATA library - https://github.com/Unidata/siphon \n",
    "import pandas as pd\n",
    "\n",
    "#libraries used in phase 2:\n",
    "import cartopy.crs as ccrs\n",
    "import cartopy.feature as cfeature\n",
    "from matplotlib.colors import BoundaryNorm\n",
    "import matplotlib.pyplot as plt\n",
    "import numpy as np # this libary will be used in phase 2 in tandem with interpolation commands\n",
    "\n",
    "from metpy.interpolate import interpolate_to_grid, remove_nan_observations #https://unidata.github.io/MetPy/latest/api/generated/metpy.interpolate.html\n",
    "from metpy.units import units\n",
    "\n",
    "to_proj = ccrs.AlbersEqualArea(central_longitude=-97., central_latitude=38.)"
   ]
  },
  {
   "cell_type": "markdown",
   "metadata": {},
   "source": [
    "<b>Description of new Unidata Libraries used in this script:</b>\n",
    "<ul>\n",
    "<li>Siphon - Siphon is a collection of Python utilities for downloading data from Unidata data technologies. See our support page for ways to get help with Siphon.</li>\n",
    "<li>metpy.interpolate - a collection of metpy library tools used for interpolating data</li>\n",
    "</ul>"
   ]
  },
  {
   "cell_type": "markdown",
   "metadata": {},
   "source": [
    "<b>Phase I - Follows Video #54 - time series analysis</b>"
   ]
  },
  {
   "cell_type": "markdown",
   "metadata": {},
   "source": [
    "#### Step 1 - Load the data using Siphon - here I am loading all of the observations for one bouy on Lake Ontario, near Oswego New York\n",
    "Data Source: https://www.ndbc.noaa.gov/"
   ]
  },
  {
   "cell_type": "code",
   "execution_count": null,
   "metadata": {},
   "outputs": [],
   "source": [
    "s_bouy = NDBC.realtime_observations('RPRN6')"
   ]
  },
  {
   "cell_type": "code",
   "execution_count": null,
   "metadata": {},
   "outputs": [],
   "source": [
    "s_bouy.head()"
   ]
  },
  {
   "cell_type": "code",
   "execution_count": null,
   "metadata": {},
   "outputs": [],
   "source": [
    "s_bouy.info()"
   ]
  },
  {
   "cell_type": "markdown",
   "metadata": {},
   "source": [
    "Note: Notice that time field. "
   ]
  },
  {
   "cell_type": "markdown",
   "metadata": {},
   "source": [
    "#### Step 2 - make a copy of the time field"
   ]
  },
  {
   "cell_type": "code",
   "execution_count": null,
   "metadata": {},
   "outputs": [],
   "source": [
    "s_bouy['time_copy'] = s_bouy['time']"
   ]
  },
  {
   "cell_type": "code",
   "execution_count": null,
   "metadata": {},
   "outputs": [],
   "source": [
    "s_bouy.info()"
   ]
  },
  {
   "cell_type": "markdown",
   "metadata": {},
   "source": [
    "#### Step 3 - cast the time field to numeric. Why is this done? Try running the code below with time and and time_copy. "
   ]
  },
  {
   "cell_type": "code",
   "execution_count": null,
   "metadata": {},
   "outputs": [],
   "source": [
    "s_bouy['time'] = pd.to_numeric(s_bouy['time'], errors='coerce')"
   ]
  },
  {
   "cell_type": "markdown",
   "metadata": {},
   "source": [
    "#### Step 4 - Create a small multiple chart for different collected data points from the Bouy"
   ]
  },
  {
   "cell_type": "code",
   "execution_count": null,
   "metadata": {},
   "outputs": [],
   "source": [
    "fig, (ax1, ax2, ax3) = plt.subplots(3, 1, figsize=(12, 10)) #this is making a three-row plot with one column of data - referred to as small multiples\n",
    "ax2b = ax2.twinx() #Minute 8:45 - this will allow for a plot to have two y - axis sharing the same x-axis\n",
    "\n",
    "#Pressure\n",
    "ax1.plot(s_bouy['time'], s_bouy['pressure'], color='black')\n",
    "ax1.set_ylabel('Pressure [hPa]')\n",
    "\n",
    "#Wind Speed, gust and direction\n",
    "ax2.plot(s_bouy['time'], s_bouy['wind_speed'], color = 'tab:orange')\n",
    "ax2.plot(s_bouy['time'], s_bouy['wind_gust'], color = 'tab:olive', linestyle='--')\n",
    "ax2.plot(s_bouy['time'], s_bouy['wind_direction'], color = 'tab:blue', linestyle='-')\n",
    "ax2.set_ylabel('Wind Speed [m\\s]')\n",
    "ax2b.set_ylabel('Wind Directon')\n",
    "\n",
    "#Water Temperature\n",
    "ax3.plot(s_bouy['time'], s_bouy['water_temperature'], color = 'tab:brown')\n",
    "ax3.set_ylabel('Water Temp [degC]')\n",
    "\n",
    "\n",
    "\n"
   ]
  },
  {
   "cell_type": "markdown",
   "metadata": {},
   "source": [
    "<b>Phase II - Plot Temerpature Isotherms from NDBC latest observations</b>"
   ]
  },
  {
   "cell_type": "markdown",
   "metadata": {},
   "source": [
    "#### Step 1 - download the latest_observations dataset for all NDBC bouys"
   ]
  },
  {
   "cell_type": "code",
   "execution_count": null,
   "metadata": {},
   "outputs": [],
   "source": [
    "data_aval = NDBC.latest_observations"
   ]
  },
  {
   "cell_type": "code",
   "execution_count": null,
   "metadata": {},
   "outputs": [],
   "source": [
    "print(data_aval)"
   ]
  },
  {
   "cell_type": "markdown",
   "metadata": {},
   "source": [
    "#### Step 2 - Set the NDBC bouy observations to a dataframe obejct and inspect using, head(), tail(), and info()"
   ]
  },
  {
   "cell_type": "code",
   "execution_count": null,
   "metadata": {},
   "outputs": [],
   "source": [
    "b_df = NDBC.latest_observations()"
   ]
  },
  {
   "cell_type": "code",
   "execution_count": null,
   "metadata": {},
   "outputs": [],
   "source": [
    "b_df.head()"
   ]
  },
  {
   "cell_type": "markdown",
   "metadata": {},
   "source": [
    "#### Step 2a - Optional - this command will allow ALL of the records in a dataframe display. "
   ]
  },
  {
   "cell_type": "code",
   "execution_count": null,
   "metadata": {},
   "outputs": [],
   "source": [
    "pd.set_option('display.max_rows', b_df.shape[0]+1)"
   ]
  },
  {
   "cell_type": "code",
   "execution_count": null,
   "metadata": {},
   "outputs": [],
   "source": [
    "b_df"
   ]
  },
  {
   "cell_type": "code",
   "execution_count": null,
   "metadata": {},
   "outputs": [],
   "source": [
    "b_df.info()"
   ]
  },
  {
   "cell_type": "markdown",
   "metadata": {},
   "source": [
    "#### Step 3 - Export this captured data to a CSV file <br>\n",
    "#### Note: this is done so that we can actually manipulate the data that has been captured. "
   ]
  },
  {
   "cell_type": "code",
   "execution_count": null,
   "metadata": {},
   "outputs": [],
   "source": [
    "b_df.to_csv(r'C:\\Unidata\\Bouy3_02-20b.csv')"
   ]
  },
  {
   "cell_type": "code",
   "execution_count": null,
   "metadata": {},
   "outputs": [],
   "source": [
    "b2a_df = pd.read_csv(\"C:/Unidata/Bouy3_02-20b.csv\",na_values=\"NaN\", keep_default_na=False)"
   ]
  },
  {
   "cell_type": "code",
   "execution_count": null,
   "metadata": {},
   "outputs": [],
   "source": [
    "b2a_df.tail()"
   ]
  },
  {
   "cell_type": "markdown",
   "metadata": {},
   "source": [
    "<b>Note that there are NaN values included in this imported data</b>"
   ]
  },
  {
   "cell_type": "markdown",
   "metadata": {},
   "source": [
    "#### Step 4 - replace all of the blank values with zero in the air_temperature field"
   ]
  },
  {
   "cell_type": "code",
   "execution_count": null,
   "metadata": {},
   "outputs": [],
   "source": [
    "b2a_df['air_temperature'].replace(to_replace='', value=0, inplace=True)"
   ]
  },
  {
   "cell_type": "code",
   "execution_count": null,
   "metadata": {},
   "outputs": [],
   "source": [
    "b2a_df.tail()"
   ]
  },
  {
   "cell_type": "markdown",
   "metadata": {},
   "source": [
    "#### Step 5 - drop unneeded fields from the analysis"
   ]
  },
  {
   "cell_type": "code",
   "execution_count": null,
   "metadata": {},
   "outputs": [],
   "source": [
    "b3a_df = b2a_df.drop(b2a_df.loc[:, 'wind_direction':'3hr_pressure_tendency'].columns, axis = 1) "
   ]
  },
  {
   "cell_type": "code",
   "execution_count": null,
   "metadata": {},
   "outputs": [],
   "source": [
    "b3a_df.head()"
   ]
  },
  {
   "cell_type": "code",
   "execution_count": null,
   "metadata": {},
   "outputs": [],
   "source": [
    "b4a_df = b3a_df.drop(b3a_df.loc[:, 'water_temperature':'time'].columns, axis = 1)"
   ]
  },
  {
   "cell_type": "code",
   "execution_count": null,
   "metadata": {},
   "outputs": [],
   "source": [
    "b4a_df.head()"
   ]
  },
  {
   "cell_type": "code",
   "execution_count": null,
   "metadata": {},
   "outputs": [],
   "source": [
    "b4a_df.info()"
   ]
  },
  {
   "cell_type": "markdown",
   "metadata": {},
   "source": [
    "#### Step 6 - convert the air_temperature to a numeric value"
   ]
  },
  {
   "cell_type": "code",
   "execution_count": null,
   "metadata": {},
   "outputs": [],
   "source": [
    "b4a_df['air_temperature'] = pd.to_numeric(b4a_df['air_temperature'], errors='coerce')"
   ]
  },
  {
   "cell_type": "markdown",
   "metadata": {},
   "source": [
    "##### Check to make sure air_temperature is now a numeric value"
   ]
  },
  {
   "cell_type": "code",
   "execution_count": null,
   "metadata": {},
   "outputs": [],
   "source": [
    "b4a_df.info()"
   ]
  },
  {
   "cell_type": "markdown",
   "metadata": {},
   "source": [
    "#### Step 7 - Prepare the bouy data for interpolation and plotting on the maps <br>\n",
    "#### Source code: https://unidata.github.io/MetPy/latest/examples/gridding/Wind_SLP_Interpolation.html#sphx-glr-examples-gridding-wind-slp-interpolation-py"
   ]
  },
  {
   "cell_type": "markdown",
   "metadata": {},
   "source": [
    "In this step we are assinging the long/lat pairs to objects and preparing them for plotting"
   ]
  },
  {
   "cell_type": "code",
   "execution_count": null,
   "metadata": {},
   "outputs": [],
   "source": [
    "lon = b4a_df['longitude'].values\n",
    "lat = b4a_df['latitude'].values\n",
    "xp, yp, _ = to_proj.transform_points(ccrs.Geodetic(), lon, lat).T"
   ]
  },
  {
   "cell_type": "markdown",
   "metadata": {},
   "source": [
    "Next, we are cleaning the air_temperature observations and interpolating the bouy readings to create a continuous surface of air temperature values using metpy interpolate"
   ]
  },
  {
   "cell_type": "code",
   "execution_count": null,
   "metadata": {},
   "outputs": [],
   "source": [
    "x_masked, y_masked, t = remove_nan_observations(xp, yp, b4a_df['air_temperature'].values)\n",
    "tempx, tempy, temp = interpolate_to_grid(x_masked, y_masked, t, interp_type='cressman',\n",
    "                                         minimum_neighbors=3, search_radius=400000, hres=35000)\n",
    "\n",
    "temp = np.ma.masked_where(np.isnan(temp), temp)\n"
   ]
  },
  {
   "cell_type": "code",
   "execution_count": null,
   "metadata": {},
   "outputs": [],
   "source": [
    "levels = list(range(-20, 20, 1))\n",
    "cmap = plt.get_cmap('viridis')\n",
    "norm = BoundaryNorm(levels, ncolors=cmap.N, clip=True)\n",
    "\n",
    "fig = plt.figure(figsize=(20, 10))\n",
    "#add_metpy_logo(fig, 360, 120, size='large')\n",
    "view = fig.add_subplot(1, 1, 1, projection=to_proj)\n",
    "\n",
    "view.set_extent([-120, -70, 20, 50])\n",
    "#view.add_feature(cfeature.STATES.with_scale('50m'))\n",
    "view.add_feature(cfeature.OCEAN)\n",
    "view.add_feature(cfeature.COASTLINE.with_scale('50m'))\n",
    "view.add_feature(cfeature.BORDERS, linestyle=':')\n",
    "\n",
    "cs = view.contour(tempx, tempy, temp, colors='k', levels=list(range(-20, 20, 2)))\n",
    "view.clabel(cs, inline=1, fontsize=12, fmt='%i')\n",
    "\n",
    "mmb = view.pcolormesh(tempx, tempy, temp, cmap=cmap, norm=norm)\n",
    "fig.colorbar(mmb, shrink=.4, pad=0.02, boundaries=levels)\n",
    "\n",
    "#view.barbs(windgridx, windgridy, uwind, vwind, alpha=.4, length=5)\n",
    "\n",
    "view.set_title('Air Temperature from Bouy Data March 2, 2020')\n",
    "\n",
    "plt.show()"
   ]
  },
  {
   "cell_type": "markdown",
   "metadata": {},
   "source": [
    "<b>Resources and code bases used:</b>\n",
    " <ul>\n",
    "   <p>Bouy Data Source</p><li>https://www.ndbc.noaa.gov/</li>\n",
    "  <p>Interpolation and Source Code Used</p><li>https://unidata.github.io/MetPy/latest/examples/gridding/Wind_SLP_Interpolation.html#sphx-glr-examples-gridding-wind-slp-interpolation-py</li>\n",
    "  <p>Code that follows the video</p><li>https://unidata.github.io/python-training/workshop/Time_Series/basic-time-series-plotting/#loaddata</li>\n",
    "    <p>Mety Py Mondays Video Inspiration</p><li><p>#55</p>https://www.youtube.com/watch?v=SPe8jYOURfc</li><li><p>#54</p>https://www.youtube.com/watch?v=ovqlYlI7l5A</li>\n",
    "</ul> \n"
   ]
  },
  {
   "cell_type": "code",
   "execution_count": null,
   "metadata": {},
   "outputs": [],
   "source": []
  }
 ],
 "metadata": {
  "kernelspec": {
   "display_name": "Python 3",
   "language": "python",
   "name": "python3"
  },
  "language_info": {
   "codemirror_mode": {
    "name": "ipython",
    "version": 3
   },
   "file_extension": ".py",
   "mimetype": "text/x-python",
   "name": "python",
   "nbconvert_exporter": "python",
   "pygments_lexer": "ipython3",
   "version": "3.6.9"
  }
 },
 "nbformat": 4,
 "nbformat_minor": 4
}
